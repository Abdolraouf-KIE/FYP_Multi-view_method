{
 "cells": [
  {
   "cell_type": "code",
   "execution_count": null,
   "id": "motivated-auckland",
   "metadata": {},
   "outputs": [],
   "source": []
  }
 ],
 "metadata": {
  "kernelspec": {
   "display_name": "Slicer 4.11",
   "language": "python",
   "name": "slicer-4.11"
  }
 },
 "nbformat": 4,
 "nbformat_minor": 5
}
